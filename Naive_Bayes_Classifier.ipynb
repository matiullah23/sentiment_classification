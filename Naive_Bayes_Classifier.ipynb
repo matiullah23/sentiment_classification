{
 "cells": [
  {
   "cell_type": "markdown",
   "metadata": {},
   "source": [
    "## Bring in the txt files into Pandas dataframe"
   ]
  },
  {
   "cell_type": "code",
   "execution_count": 1,
   "metadata": {},
   "outputs": [],
   "source": [
    "# import dependencies\n",
    "import pandas as pd\n",
    "from collections import defaultdict\n",
    "from pathlib import Path\n",
    "import nltk as nl\n",
    "from nltk.tokenize import word_tokenize\n",
    "import re\n",
    "from nltk.tokenize.casual import TweetTokenizer"
   ]
  },
  {
   "cell_type": "code",
   "execution_count": 2,
   "metadata": {},
   "outputs": [
    {
     "name": "stdout",
     "output_type": "stream",
     "text": [
      "[nltk_data] Downloading package punkt to\n",
      "[nltk_data]     C:\\Users\\600846\\AppData\\Roaming\\nltk_data...\n",
      "[nltk_data]   Unzipping tokenizers\\punkt.zip.\n"
     ]
    },
    {
     "data": {
      "text/plain": [
       "True"
      ]
     },
     "execution_count": 2,
     "metadata": {},
     "output_type": "execute_result"
    }
   ],
   "source": [
    "nl.download('punkt')"
   ]
  },
  {
   "cell_type": "code",
   "execution_count": 3,
   "metadata": {},
   "outputs": [],
   "source": [
    "#set directory path\n",
    "my_dir_path = \"tweet/train/positive\""
   ]
  },
  {
   "cell_type": "code",
   "execution_count": 4,
   "metadata": {},
   "outputs": [],
   "source": [
    "# create list to store text\n",
    "results = defaultdict(list)"
   ]
  },
  {
   "cell_type": "code",
   "execution_count": 5,
   "metadata": {},
   "outputs": [],
   "source": [
    "# loop through files and append text to list\n",
    "for file in Path(my_dir_path).iterdir():\n",
    "    with open(file, \"r\", encoding=\"utf8\") as file_open:\n",
    "        results[\"text\"].append(file_open.read())"
   ]
  },
  {
   "cell_type": "code",
   "execution_count": 6,
   "metadata": {},
   "outputs": [],
   "source": [
    "# read the list in as a dataframe\n",
    "df_pos = pd.DataFrame(results)"
   ]
  },
  {
   "cell_type": "code",
   "execution_count": 7,
   "metadata": {},
   "outputs": [
    {
     "data": {
      "text/html": [
       "<div>\n",
       "<style scoped>\n",
       "    .dataframe tbody tr th:only-of-type {\n",
       "        vertical-align: middle;\n",
       "    }\n",
       "\n",
       "    .dataframe tbody tr th {\n",
       "        vertical-align: top;\n",
       "    }\n",
       "\n",
       "    .dataframe thead th {\n",
       "        text-align: right;\n",
       "    }\n",
       "</style>\n",
       "<table border=\"1\" class=\"dataframe\">\n",
       "  <thead>\n",
       "    <tr style=\"text-align: right;\">\n",
       "      <th></th>\n",
       "      <th>text</th>\n",
       "    </tr>\n",
       "  </thead>\n",
       "  <tbody>\n",
       "    <tr>\n",
       "      <th>0</th>\n",
       "      <td>@SouthwestAir I would appreciate that.  Thank ...</td>\n",
       "    </tr>\n",
       "    <tr>\n",
       "      <th>1</th>\n",
       "      <td>@USAirways thank you very much.\\n</td>\n",
       "    </tr>\n",
       "    <tr>\n",
       "      <th>2</th>\n",
       "      <td>@JetBlue I'm all set. About to fly. Not bad fo...</td>\n",
       "    </tr>\n",
       "    <tr>\n",
       "      <th>3</th>\n",
       "      <td>@SouthwestAir I got a flight at 11:55am on Thu...</td>\n",
       "    </tr>\n",
       "    <tr>\n",
       "      <th>4</th>\n",
       "      <td>@AmericanAir you're my early frontrunner for b...</td>\n",
       "    </tr>\n",
       "  </tbody>\n",
       "</table>\n",
       "</div>"
      ],
      "text/plain": [
       "                                                text\n",
       "0  @SouthwestAir I would appreciate that.  Thank ...\n",
       "1                  @USAirways thank you very much.\\n\n",
       "2  @JetBlue I'm all set. About to fly. Not bad fo...\n",
       "3  @SouthwestAir I got a flight at 11:55am on Thu...\n",
       "4  @AmericanAir you're my early frontrunner for b..."
      ]
     },
     "execution_count": 7,
     "metadata": {},
     "output_type": "execute_result"
    }
   ],
   "source": [
    "# take a look at dataframe\n",
    "df_pos.head()"
   ]
  },
  {
   "cell_type": "code",
   "execution_count": 8,
   "metadata": {},
   "outputs": [
    {
     "data": {
      "text/html": [
       "<div>\n",
       "<style scoped>\n",
       "    .dataframe tbody tr th:only-of-type {\n",
       "        vertical-align: middle;\n",
       "    }\n",
       "\n",
       "    .dataframe tbody tr th {\n",
       "        vertical-align: top;\n",
       "    }\n",
       "\n",
       "    .dataframe thead th {\n",
       "        text-align: right;\n",
       "    }\n",
       "</style>\n",
       "<table border=\"1\" class=\"dataframe\">\n",
       "  <thead>\n",
       "    <tr style=\"text-align: right;\">\n",
       "      <th></th>\n",
       "      <th>text</th>\n",
       "    </tr>\n",
       "  </thead>\n",
       "  <tbody>\n",
       "    <tr>\n",
       "      <th>0</th>\n",
       "      <td>@united Really....you charge me $25 to check a...</td>\n",
       "    </tr>\n",
       "    <tr>\n",
       "      <th>1</th>\n",
       "      <td>.@JetBlue thanks for making an effort. Credit ...</td>\n",
       "    </tr>\n",
       "    <tr>\n",
       "      <th>2</th>\n",
       "      <td>@united plz don't advertise wifi if it's not g...</td>\n",
       "    </tr>\n",
       "    <tr>\n",
       "      <th>3</th>\n",
       "      <td>@SouthwestAir - 800 is not int'l friendly\\n</td>\n",
       "    </tr>\n",
       "    <tr>\n",
       "      <th>4</th>\n",
       "      <td>@USAirways thanks for a subpar travel experien...</td>\n",
       "    </tr>\n",
       "  </tbody>\n",
       "</table>\n",
       "</div>"
      ],
      "text/plain": [
       "                                                text\n",
       "0  @united Really....you charge me $25 to check a...\n",
       "1  .@JetBlue thanks for making an effort. Credit ...\n",
       "2  @united plz don't advertise wifi if it's not g...\n",
       "3        @SouthwestAir - 800 is not int'l friendly\\n\n",
       "4  @USAirways thanks for a subpar travel experien..."
      ]
     },
     "execution_count": 8,
     "metadata": {},
     "output_type": "execute_result"
    }
   ],
   "source": [
    "#set directory path\n",
    "my_dir_path_neg = \"tweet/train/negative\"\n",
    "\n",
    "# create list to store text\n",
    "results_neg = defaultdict(list)\n",
    "\n",
    "# loop through files and append text to list\n",
    "for file in Path(my_dir_path_neg).iterdir():\n",
    "    with open(file, \"r\", encoding=\"utf8\") as file_open:\n",
    "        results_neg[\"text\"].append(file_open.read())\n",
    "        \n",
    "# read the list in as a dataframe\n",
    "df_neg = pd.DataFrame(results_neg)\n",
    "df_neg.head()"
   ]
  },
  {
   "cell_type": "code",
   "execution_count": 9,
   "metadata": {},
   "outputs": [],
   "source": [
    "#add sentiment to both datasets and then combine them for test data 1 for positive and 0 for negative\n",
    "df_pos['Sentiment']=1\n",
    "df_neg['Sentiment']=0\n",
    "frames = [df_pos, df_neg]\n",
    "df = pd.concat(frames)"
   ]
  },
  {
   "cell_type": "code",
   "execution_count": 10,
   "metadata": {},
   "outputs": [
    {
     "data": {
      "text/plain": [
       "(4181, 2)"
      ]
     },
     "execution_count": 10,
     "metadata": {},
     "output_type": "execute_result"
    }
   ],
   "source": [
    "df.shape"
   ]
  },
  {
   "cell_type": "markdown",
   "metadata": {},
   "source": [
    "## Create Vocabulary - No Stemming"
   ]
  },
  {
   "cell_type": "code",
   "execution_count": 12,
   "metadata": {},
   "outputs": [
    {
     "data": {
      "text/html": [
       "<div>\n",
       "<style scoped>\n",
       "    .dataframe tbody tr th:only-of-type {\n",
       "        vertical-align: middle;\n",
       "    }\n",
       "\n",
       "    .dataframe tbody tr th {\n",
       "        vertical-align: top;\n",
       "    }\n",
       "\n",
       "    .dataframe thead th {\n",
       "        text-align: right;\n",
       "    }\n",
       "</style>\n",
       "<table border=\"1\" class=\"dataframe\">\n",
       "  <thead>\n",
       "    <tr style=\"text-align: right;\">\n",
       "      <th></th>\n",
       "      <th>text</th>\n",
       "      <th>Sentiment</th>\n",
       "    </tr>\n",
       "  </thead>\n",
       "  <tbody>\n",
       "    <tr>\n",
       "      <th>0</th>\n",
       "      <td>@united makes total sense except flight wasn't full :) I've got empty seats around me &amp;amp; overheads were more than half open when I bo...</td>\n",
       "      <td>0</td>\n",
       "    </tr>\n",
       "    <tr>\n",
       "      <th>1</th>\n",
       "      <td>@JetBlue Crisis averted! Flight #69 from BOS to FLL is boarding. Let's hope the new pilots aren't Clarence Oveur and Roger Murdock. :-)\\n</td>\n",
       "      <td>1</td>\n",
       "    </tr>\n",
       "    <tr>\n",
       "      <th>2</th>\n",
       "      <td>@united thank you\\n</td>\n",
       "      <td>1</td>\n",
       "    </tr>\n",
       "    <tr>\n",
       "      <th>3</th>\n",
       "      <td>@SouthwestAir @Kaneshow @InternJohnRadio @mrerickv THIS IS EVERYTHING... now return that jet so we can go to Miami!\\n</td>\n",
       "      <td>0</td>\n",
       "    </tr>\n",
       "    <tr>\n",
       "      <th>4</th>\n",
       "      <td>@SouthwestAir you're really going to let @delta and @virginamerica get the best of you? http://t.co/vUdWJm1lYB\\n</td>\n",
       "      <td>0</td>\n",
       "    </tr>\n",
       "  </tbody>\n",
       "</table>\n",
       "</div>"
      ],
      "text/plain": [
       "                                                                                                                                          text  \\\n",
       "0  @united makes total sense except flight wasn't full :) I've got empty seats around me &amp; overheads were more than half open when I bo...   \n",
       "1    @JetBlue Crisis averted! Flight #69 from BOS to FLL is boarding. Let's hope the new pilots aren't Clarence Oveur and Roger Murdock. :-)\\n   \n",
       "2                                                                                                                          @united thank you\\n   \n",
       "3                        @SouthwestAir @Kaneshow @InternJohnRadio @mrerickv THIS IS EVERYTHING... now return that jet so we can go to Miami!\\n   \n",
       "4                             @SouthwestAir you're really going to let @delta and @virginamerica get the best of you? http://t.co/vUdWJm1lYB\\n   \n",
       "\n",
       "   Sentiment  \n",
       "0          0  \n",
       "1          1  \n",
       "2          1  \n",
       "3          0  \n",
       "4          0  "
      ]
     },
     "execution_count": 12,
     "metadata": {},
     "output_type": "execute_result"
    }
   ],
   "source": [
    "# increase column width to see more of the tweets\n",
    "pd.set_option('max_colwidth', 140)\n",
    "\n",
    "# reshuffle the tweets to see both pos and neg in random order\n",
    "df = df.sample(frac=1).reset_index(drop=True)\n",
    "\n",
    "# explore top 5 rows\n",
    "df.head(5)"
   ]
  },
  {
   "cell_type": "code",
   "execution_count": 13,
   "metadata": {},
   "outputs": [],
   "source": [
    "# Remove any markup tags (HTML), all the mentions of handles(starts with '@') and '#' character\n",
    "def cleantweettext(raw_html):\n",
    "    pattern = re.compile('<.*?>')\n",
    "    cleantext = re.sub(pattern, '', raw_html)\n",
    "    cleantext = \" \".join(filter(lambda x:x[0]!='@', cleantext.split()))\n",
    "    cleantext = cleantext.replace('#', '')\n",
    "    return cleantext"
   ]
  },
  {
   "cell_type": "code",
   "execution_count": 14,
   "metadata": {},
   "outputs": [],
   "source": [
    "def removeat(text):\n",
    "    atlist=[]\n",
    "    for word in text:\n",
    "        pattern = re.compile('^@')\n",
    "        if re.match(pattern,word):\n",
    "            #cleantext1 = re.sub(pattern, word[1:], word)\n",
    "            atlist.append(word[1:])\n",
    "        else:\n",
    "            atlist.append(word)\n",
    "    return atlist"
   ]
  },
  {
   "cell_type": "code",
   "execution_count": 15,
   "metadata": {},
   "outputs": [],
   "source": [
    "def tolower(text):\n",
    "    lowerlist=[]\n",
    "    for word in text:\n",
    "        pattern = re.compile('[A-Z][a-z]+')\n",
    "        if re.match(pattern,word):\n",
    "            cleantext1 = re.sub(pattern, word.lower(), word)\n",
    "            lowerlist.append(cleantext1)\n",
    "        else:\n",
    "            lowerlist.append(word)\n",
    "    return lowerlist"
   ]
  },
  {
   "cell_type": "code",
   "execution_count": 16,
   "metadata": {},
   "outputs": [],
   "source": [
    "cleantweet= []\n",
    "for doc in df.text:\n",
    "    cleantweet.append(cleanhtml(doc))\n",
    "\n",
    "\n",
    "tokentweet=[]\n",
    "df.text= cleantweet\n",
    "for doc in df.text:\n",
    "    tokentweet.append(TweetTokenizer().tokenize(doc))\n",
    "    \n",
    "df.text= tokentweet"
   ]
  },
  {
   "cell_type": "code",
   "execution_count": 17,
   "metadata": {},
   "outputs": [],
   "source": [
    "removeattweet=[]\n",
    "for doc in df.text:\n",
    "    removeattweet.append(removeat(doc))\n",
    "df.text =removeattweet"
   ]
  },
  {
   "cell_type": "code",
   "execution_count": 21,
   "metadata": {},
   "outputs": [
    {
     "data": {
      "text/plain": [
       "['united', 'thank', 'you']"
      ]
     },
     "execution_count": 21,
     "metadata": {},
     "output_type": "execute_result"
    }
   ],
   "source": [
    "removeattweet[2]"
   ]
  },
  {
   "cell_type": "code",
   "execution_count": 19,
   "metadata": {},
   "outputs": [],
   "source": [
    "lowertweet=[]\n",
    "for doc in df.text:\n",
    "    lowertweet.append(tolower(doc))\n",
    "df.text = lowertweet"
   ]
  },
  {
   "cell_type": "code",
   "execution_count": 22,
   "metadata": {},
   "outputs": [
    {
     "data": {
      "text/plain": [
       "['united', 'thank', 'you']"
      ]
     },
     "execution_count": 22,
     "metadata": {},
     "output_type": "execute_result"
    }
   ],
   "source": [
    "lowertweet[2]"
   ]
  },
  {
   "cell_type": "code",
   "execution_count": 23,
   "metadata": {},
   "outputs": [],
   "source": [
    "tweets=[]\n",
    "for x in df.text:\n",
    "    tweet = ''\n",
    "    for word in x:\n",
    "        tweet += word+' '\n",
    "    tweets.append(word_tokenize(tweet))\n",
    "df.text= tweets"
   ]
  },
  {
   "cell_type": "code",
   "execution_count": 24,
   "metadata": {},
   "outputs": [
    {
     "data": {
      "text/html": [
       "<div>\n",
       "<style scoped>\n",
       "    .dataframe tbody tr th:only-of-type {\n",
       "        vertical-align: middle;\n",
       "    }\n",
       "\n",
       "    .dataframe tbody tr th {\n",
       "        vertical-align: top;\n",
       "    }\n",
       "\n",
       "    .dataframe thead th {\n",
       "        text-align: right;\n",
       "    }\n",
       "</style>\n",
       "<table border=\"1\" class=\"dataframe\">\n",
       "  <thead>\n",
       "    <tr style=\"text-align: right;\">\n",
       "      <th></th>\n",
       "      <th>text</th>\n",
       "      <th>Sentiment</th>\n",
       "    </tr>\n",
       "  </thead>\n",
       "  <tbody>\n",
       "    <tr>\n",
       "      <th>0</th>\n",
       "      <td>[USAirways, 2, days, in, a, row, I, call, and, still, ca, n't, get, anyone, on, the, phone, ., do, you, actually, have, any, employees, ?]</td>\n",
       "      <td>0</td>\n",
       "    </tr>\n",
       "    <tr>\n",
       "      <th>1</th>\n",
       "      <td>[USAirways, call, dropped, &amp;, no, call, back, ..., another, 45min, -, hour, for, another, rep, ., the, worst, CS, ever, online, by, phon...</td>\n",
       "      <td>0</td>\n",
       "    </tr>\n",
       "    <tr>\n",
       "      <th>2</th>\n",
       "      <td>[united, yes, supposed, to, be, here, by, 6PM, ., I, have, a, board, meeting, tomorrow, ., fingers, crossed, .]</td>\n",
       "      <td>0</td>\n",
       "    </tr>\n",
       "    <tr>\n",
       "      <th>3</th>\n",
       "      <td>[jetbluejetblue, thanks, to, the, gent, on, the, phone, who, fixed, my, BOS-MCO, flight, and, the, fee, waiver, !, A320, now, :, ), #, f...</td>\n",
       "      <td>1</td>\n",
       "    </tr>\n",
       "    <tr>\n",
       "      <th>4</th>\n",
       "      <td>[americanairamericanair, AA, 100, -, good, job, overselling, this, flight, ., delayed, 90, minutes, to, deplane, the, overflow, passenge...</td>\n",
       "      <td>0</td>\n",
       "    </tr>\n",
       "    <tr>\n",
       "      <th>5</th>\n",
       "      <td>[southwestairsouthwestair, hey, ..., why, do, n't, you, add, the, intl, number, to, your, error, when, checking, in, ., going, on, 6, hr...</td>\n",
       "      <td>0</td>\n",
       "    </tr>\n",
       "    <tr>\n",
       "      <th>6</th>\n",
       "      <td>[southwestairsouthwestair, been, waiting, for, 70, minutes, on, hold, because, yall, cancelled, flightled, my, return, flight, ., answer...</td>\n",
       "      <td>0</td>\n",
       "    </tr>\n",
       "    <tr>\n",
       "      <th>7</th>\n",
       "      <td>[southwestairsouthwestair, how, about, #, destinationdragon, tix, for, tonite, for, the, inconvenience, since, I, am, not, there, to, pl...</td>\n",
       "      <td>0</td>\n",
       "    </tr>\n",
       "    <tr>\n",
       "      <th>8</th>\n",
       "      <td>[americanairamericanair, thanks, for, your, canned, response, that, makes, it, look, like, you, care, about, your, customers, ., I, 'm, ...</td>\n",
       "      <td>0</td>\n",
       "    </tr>\n",
       "    <tr>\n",
       "      <th>9</th>\n",
       "      <td>[., USAirways, trying, to, get, a, partner, PNR, and, have, spent, more, than, 1, hour, on, hold, ., I, know, its, snowing, somewhere, b...</td>\n",
       "      <td>0</td>\n",
       "    </tr>\n",
       "    <tr>\n",
       "      <th>10</th>\n",
       "      <td>[southwestairsouthwestair, the, agents, werenot, helpful, told, me, I, would, have, to, pay, 2chng, even, though, I, tld, them, going, 2...</td>\n",
       "      <td>0</td>\n",
       "    </tr>\n",
       "    <tr>\n",
       "      <th>11</th>\n",
       "      <td>[united, just, dropped, bags, at, newark, ., your, desk, guy, was, the, rudest, customer, facing, person, I, have, met, ., even, my, two...</td>\n",
       "      <td>0</td>\n",
       "    </tr>\n",
       "    <tr>\n",
       "      <th>12</th>\n",
       "      <td>[jetbluejetblue, thanks, so, much, for, help, us, u, r, amazing, !]</td>\n",
       "      <td>1</td>\n",
       "    </tr>\n",
       "    <tr>\n",
       "      <th>13</th>\n",
       "      <td>[united, I, understand, that, but, why, should, I, pay, to, change, if, it, was, a, problem, with, your, plane, ., if, it, was, weather,...</td>\n",
       "      <td>0</td>\n",
       "    </tr>\n",
       "    <tr>\n",
       "      <th>14</th>\n",
       "      <td>[USAirways, it, says, to, call, ., before, connecting, get, song, dance, about, weather, ., weather, bad, 3, days, ?, called, for, 2, da...</td>\n",
       "      <td>0</td>\n",
       "    </tr>\n",
       "    <tr>\n",
       "      <th>15</th>\n",
       "      <td>[united, 5.5, hrs, late, flightr, and, you, still, ca, n't, figure, it, out, ., random, text, updates, ., #, embarrassing, #, ua3728, ht...</td>\n",
       "      <td>0</td>\n",
       "    </tr>\n",
       "    <tr>\n",
       "      <th>16</th>\n",
       "      <td>[americanairamericanair, no, one, met, flight, 1081, to, LAX, to, tell, passengers, where, to, go, or, what, flights, they, were, rebook...</td>\n",
       "      <td>0</td>\n",
       "    </tr>\n",
       "    <tr>\n",
       "      <th>17</th>\n",
       "      <td>[southwestairsouthwestair, flight, 2646, ., four, hours, in, the, plane, on, the, ground, at, BWI, .]</td>\n",
       "      <td>0</td>\n",
       "    </tr>\n",
       "    <tr>\n",
       "      <th>18</th>\n",
       "      <td>[united, thank, you, so, much, that, helps, a, ton, ., whoever, is, on, this, twitter, acct, today, deserves, a, handshake, and, a, hot,...</td>\n",
       "      <td>1</td>\n",
       "    </tr>\n",
       "    <tr>\n",
       "      <th>19</th>\n",
       "      <td>[united, everyone, around, us, is, sitting, with, their, friends, and, family, members, ., they, booked, their, tickets, in, october, an...</td>\n",
       "      <td>0</td>\n",
       "    </tr>\n",
       "    <tr>\n",
       "      <th>20</th>\n",
       "      <td>[southwestairsouthwestair, your, flight, attendants, are, really, funny, !, !, the, sass, is, giving, me, life, !, !, !, 😂]</td>\n",
       "      <td>1</td>\n",
       "    </tr>\n",
       "    <tr>\n",
       "      <th>21</th>\n",
       "      <td>[united, is, freaking, worthless, ., I, hate, this, airline, ., http, :, //t.co/dN1if2cGwE]</td>\n",
       "      <td>0</td>\n",
       "    </tr>\n",
       "    <tr>\n",
       "      <th>22</th>\n",
       "      <td>[americanairamericanair, we, knew, it, was, not, going, to, leave, but, we, had, 6, hours, waiting, ..., that, was, the, hurry, ..]</td>\n",
       "      <td>0</td>\n",
       "    </tr>\n",
       "    <tr>\n",
       "      <th>23</th>\n",
       "      <td>[united, alright, thank, you, ., much, appreciated, .]</td>\n",
       "      <td>1</td>\n",
       "    </tr>\n",
       "    <tr>\n",
       "      <th>24</th>\n",
       "      <td>[united, instead, of, making, seats, smaller, /, thinner, so, u, can, jam, more, people, on, a, flightu, should, concentrate, on, maint,...</td>\n",
       "      <td>0</td>\n",
       "    </tr>\n",
       "    <tr>\n",
       "      <th>25</th>\n",
       "      <td>[USAirways, this, is, more, than, having, patience, ., this, is, not, acceptable, ., http, :, //t.co/N7pSuEJDC8]</td>\n",
       "      <td>0</td>\n",
       "    </tr>\n",
       "    <tr>\n",
       "      <th>26</th>\n",
       "      <td>[americanairamericanair, yes, we, did, make, it, home, ., but, by, no, means, am, I, happy, ., I, 've, always, chosen, AA, as, my, 1st, ...</td>\n",
       "      <td>0</td>\n",
       "    </tr>\n",
       "    <tr>\n",
       "      <th>27</th>\n",
       "      <td>[southwestairsouthwestair, problem, is, I, was, n't, issued, a, position, until, today, at, the, gate, ., and, no, option, to, upgrade, ...</td>\n",
       "      <td>0</td>\n",
       "    </tr>\n",
       "    <tr>\n",
       "      <th>28</th>\n",
       "      <td>[southwestairsouthwestair, been, holding, for, 1, hour, and, 10, minutes, ., to, rebook, cancelled, flightlation.you.flightlation.you, g...</td>\n",
       "      <td>0</td>\n",
       "    </tr>\n",
       "    <tr>\n",
       "      <th>29</th>\n",
       "      <td>[USAirways, flight, 614, keeps, telling, a, few, more, mins, to, take, off, its, been, an, hour, ., first, time, with, you, not, the, be...</td>\n",
       "      <td>0</td>\n",
       "    </tr>\n",
       "    <tr>\n",
       "      <th>...</th>\n",
       "      <td>...</td>\n",
       "      <td>...</td>\n",
       "    </tr>\n",
       "    <tr>\n",
       "      <th>4151</th>\n",
       "      <td>[southwestairsouthwestair, is, that, the, same, reliable, system, could, n't, find, my, info, and, then, said, it, refund, my, credit, c...</td>\n",
       "      <td>0</td>\n",
       "    </tr>\n",
       "    <tr>\n",
       "      <th>4152</th>\n",
       "      <td>[americanairamericanair, -, you, broke, my, sick, wife, 's, luggage, handle, going, from, JFK, to, LAX, ..., she, had, to, drag, her, ba...</td>\n",
       "      <td>0</td>\n",
       "    </tr>\n",
       "    <tr>\n",
       "      <th>4153</th>\n",
       "      <td>[southwestairsouthwestair, we, had, early, bird, and, it, was, great, ., your, employees, were, awesome, ., it, was, 3, passengers, who,...</td>\n",
       "      <td>1</td>\n",
       "    </tr>\n",
       "    <tr>\n",
       "      <th>4154</th>\n",
       "      <td>[americanairamericanair, DFW, GATE, 16, to, BMI, agent, seriously, is, beyond, incompetent, ., never, flying, AA, again, if, can, be, av...</td>\n",
       "      <td>0</td>\n",
       "    </tr>\n",
       "    <tr>\n",
       "      <th>4155</th>\n",
       "      <td>[united, not, yet, ., I, complained, about, the, guy, who, checked, my, luggage, in, as, he, was, throwing, the, bags, around, ., unfort...</td>\n",
       "      <td>0</td>\n",
       "    </tr>\n",
       "    <tr>\n",
       "      <th>4156</th>\n",
       "      <td>[americanairamericanair, USAirways, wonderful, FC, FA, on, flight, 2062, pre, dawn, !, nice, start, to, the, day, !]</td>\n",
       "      <td>1</td>\n",
       "    </tr>\n",
       "    <tr>\n",
       "      <th>4157</th>\n",
       "      <td>[USAirways, this, is, no, way, to, treat, women, ., I, want, someone, to, contact, me, and, explain, how, they, will, make, this, accept...</td>\n",
       "      <td>0</td>\n",
       "    </tr>\n",
       "    <tr>\n",
       "      <th>4158</th>\n",
       "      <td>[southwestairsouthwestair, your, employees, were, great, !]</td>\n",
       "      <td>1</td>\n",
       "    </tr>\n",
       "    <tr>\n",
       "      <th>4159</th>\n",
       "      <td>[united, JT, thanks, for, your, help, I, ’, ll, complete, the, form, once, we, are, back, home]</td>\n",
       "      <td>1</td>\n",
       "    </tr>\n",
       "    <tr>\n",
       "      <th>4160</th>\n",
       "      <td>[southwestairsouthwestair, THANK, YOU, SO, MUCH, YOURE, AMAZING, IM, GOING, TO, CRY, OMG]</td>\n",
       "      <td>1</td>\n",
       "    </tr>\n",
       "    <tr>\n",
       "      <th>4161</th>\n",
       "      <td>[southwestairsouthwestair, your, terry, is, our, hero, !, got, my, husband, back, thru, security, to, retrieve, cellphone, left, on, pla...</td>\n",
       "      <td>1</td>\n",
       "    </tr>\n",
       "    <tr>\n",
       "      <th>4162</th>\n",
       "      <td>[virginamericavirginamerica, your, mobile, site, is, broken, shows, ``, {, {, header.elevateUser, ., numOfPointsAvailable, |, |, ', 0, '...</td>\n",
       "      <td>0</td>\n",
       "    </tr>\n",
       "    <tr>\n",
       "      <th>4163</th>\n",
       "      <td>[americanairamericanair, so, we, 've, now, been, driving, across, DFW, for, over, 90mins, ., that's, 's, half, fucking, way, to, texarka...</td>\n",
       "      <td>0</td>\n",
       "    </tr>\n",
       "    <tr>\n",
       "      <th>4164</th>\n",
       "      <td>[virginamericavirginamerica, for, my, grandma, ella's, 's, 80th, she, would, &lt;, 3, a, bday, greeting, from, your, flight, crew, !, she, ...</td>\n",
       "      <td>1</td>\n",
       "    </tr>\n",
       "    <tr>\n",
       "      <th>4165</th>\n",
       "      <td>[americanairamericanair, a, friend, is, having, flight, cancelled, flightlations, out, of, LAX, to, CMH, on, feb, 23, ., anyway, to, hel...</td>\n",
       "      <td>0</td>\n",
       "    </tr>\n",
       "    <tr>\n",
       "      <th>4166</th>\n",
       "      <td>[united, €, 202.88, is, the, difference, between, the, booked, flights, do, you, want, screen, shots, ?]</td>\n",
       "      <td>0</td>\n",
       "    </tr>\n",
       "    <tr>\n",
       "      <th>4167</th>\n",
       "      <td>[jetbluejetblue, trying, to, charge, us, $, 550, dollars, cash, for, tickets, we, paid, for, months, in, advance, #, isthisreal, #, neve...</td>\n",
       "      <td>0</td>\n",
       "    </tr>\n",
       "    <tr>\n",
       "      <th>4168</th>\n",
       "      <td>[united, 732, from, denver, ., we, just, boarded, !, fingers, crossed, we, get, into, the, air, !, !, !]</td>\n",
       "      <td>1</td>\n",
       "    </tr>\n",
       "    <tr>\n",
       "      <th>4169</th>\n",
       "      <td>[jetbluejetblue, airbus, wow, what, an, amazing, video, https, :, //t.co/dbcvEPn5QC, great, world, guys, #, Bluemanity, #, CoreValues, #...</td>\n",
       "      <td>1</td>\n",
       "    </tr>\n",
       "    <tr>\n",
       "      <th>4170</th>\n",
       "      <td>[united, oh, the, wi-fi-wi-fi, router, is, on, top, of, the, fuselage, !, ;, )]</td>\n",
       "      <td>1</td>\n",
       "    </tr>\n",
       "    <tr>\n",
       "      <th>4171</th>\n",
       "      <td>[united, the, flight, turned, around, for, mechanical, reasons, on, 1/30, /, 15, ., never, to, fly, united, again, as, they, do, n't, ch...</td>\n",
       "      <td>0</td>\n",
       "    </tr>\n",
       "    <tr>\n",
       "      <th>4172</th>\n",
       "      <td>[southwestairsouthwestair, please, help, ., we, really, want, to, fly, with, you, ., #, guessweflyingdelta]</td>\n",
       "      <td>1</td>\n",
       "    </tr>\n",
       "    <tr>\n",
       "      <th>4173</th>\n",
       "      <td>[americanairamericanair, thanks, for, making, this, the, worst, flying, experience, ever, ., 4, different, planes, of, mechanical, issue...</td>\n",
       "      <td>0</td>\n",
       "    </tr>\n",
       "    <tr>\n",
       "      <th>4174</th>\n",
       "      <td>[americanairamericanair, my, sister, just, received, a, call, that, her, trip, wednesday, (, flts, 2348/3499, ), was, cancelled, flightl...</td>\n",
       "      <td>0</td>\n",
       "    </tr>\n",
       "    <tr>\n",
       "      <th>4175</th>\n",
       "      <td>[americanairamericanair, boeingairplanesboeingairplanes, I, really, would, love, to, experience, first, class, on, that, planelooks, stu...</td>\n",
       "      <td>1</td>\n",
       "    </tr>\n",
       "    <tr>\n",
       "      <th>4176</th>\n",
       "      <td>[southwestairsouthwestair, finally, boarded, ., looks, like, I, 'll, make, it, to, my, final, destination, but, my, baggage, wo, n't, #,...</td>\n",
       "      <td>0</td>\n",
       "    </tr>\n",
       "    <tr>\n",
       "      <th>4177</th>\n",
       "      <td>[americanairamericanair, dfwairport, guys, let, it, go, ., http, :, //t.co/vOxcghciJi]</td>\n",
       "      <td>1</td>\n",
       "    </tr>\n",
       "    <tr>\n",
       "      <th>4178</th>\n",
       "      <td>[jetbluejetblue, why, 730, and, not, 645, as, scheduled, ?]</td>\n",
       "      <td>0</td>\n",
       "    </tr>\n",
       "    <tr>\n",
       "      <th>4179</th>\n",
       "      <td>[virginamericavirginamerica, I, can, not, even, open, my, laptop, in, seat, 4C, and, I, paid, a, premium, for, this, ?, !, !, let, me, o...</td>\n",
       "      <td>0</td>\n",
       "    </tr>\n",
       "    <tr>\n",
       "      <th>4180</th>\n",
       "      <td>[USAirways, I, 'm, glad, this, airline, is, going, to, be, swallowed, by, american, !, !, !, american, always, picks, up, the, phone, an...</td>\n",
       "      <td>0</td>\n",
       "    </tr>\n",
       "  </tbody>\n",
       "</table>\n",
       "<p>4181 rows × 2 columns</p>\n",
       "</div>"
      ],
      "text/plain": [
       "                                                                                                                                             text  \\\n",
       "0      [USAirways, 2, days, in, a, row, I, call, and, still, ca, n't, get, anyone, on, the, phone, ., do, you, actually, have, any, employees, ?]   \n",
       "1     [USAirways, call, dropped, &, no, call, back, ..., another, 45min, -, hour, for, another, rep, ., the, worst, CS, ever, online, by, phon...   \n",
       "2                                 [united, yes, supposed, to, be, here, by, 6PM, ., I, have, a, board, meeting, tomorrow, ., fingers, crossed, .]   \n",
       "3     [jetbluejetblue, thanks, to, the, gent, on, the, phone, who, fixed, my, BOS-MCO, flight, and, the, fee, waiver, !, A320, now, :, ), #, f...   \n",
       "4     [americanairamericanair, AA, 100, -, good, job, overselling, this, flight, ., delayed, 90, minutes, to, deplane, the, overflow, passenge...   \n",
       "5     [southwestairsouthwestair, hey, ..., why, do, n't, you, add, the, intl, number, to, your, error, when, checking, in, ., going, on, 6, hr...   \n",
       "6     [southwestairsouthwestair, been, waiting, for, 70, minutes, on, hold, because, yall, cancelled, flightled, my, return, flight, ., answer...   \n",
       "7     [southwestairsouthwestair, how, about, #, destinationdragon, tix, for, tonite, for, the, inconvenience, since, I, am, not, there, to, pl...   \n",
       "8     [americanairamericanair, thanks, for, your, canned, response, that, makes, it, look, like, you, care, about, your, customers, ., I, 'm, ...   \n",
       "9     [., USAirways, trying, to, get, a, partner, PNR, and, have, spent, more, than, 1, hour, on, hold, ., I, know, its, snowing, somewhere, b...   \n",
       "10    [southwestairsouthwestair, the, agents, werenot, helpful, told, me, I, would, have, to, pay, 2chng, even, though, I, tld, them, going, 2...   \n",
       "11    [united, just, dropped, bags, at, newark, ., your, desk, guy, was, the, rudest, customer, facing, person, I, have, met, ., even, my, two...   \n",
       "12                                                                            [jetbluejetblue, thanks, so, much, for, help, us, u, r, amazing, !]   \n",
       "13    [united, I, understand, that, but, why, should, I, pay, to, change, if, it, was, a, problem, with, your, plane, ., if, it, was, weather,...   \n",
       "14    [USAirways, it, says, to, call, ., before, connecting, get, song, dance, about, weather, ., weather, bad, 3, days, ?, called, for, 2, da...   \n",
       "15    [united, 5.5, hrs, late, flightr, and, you, still, ca, n't, figure, it, out, ., random, text, updates, ., #, embarrassing, #, ua3728, ht...   \n",
       "16    [americanairamericanair, no, one, met, flight, 1081, to, LAX, to, tell, passengers, where, to, go, or, what, flights, they, were, rebook...   \n",
       "17                                          [southwestairsouthwestair, flight, 2646, ., four, hours, in, the, plane, on, the, ground, at, BWI, .]   \n",
       "18    [united, thank, you, so, much, that, helps, a, ton, ., whoever, is, on, this, twitter, acct, today, deserves, a, handshake, and, a, hot,...   \n",
       "19    [united, everyone, around, us, is, sitting, with, their, friends, and, family, members, ., they, booked, their, tickets, in, october, an...   \n",
       "20                    [southwestairsouthwestair, your, flight, attendants, are, really, funny, !, !, the, sass, is, giving, me, life, !, !, !, 😂]   \n",
       "21                                                    [united, is, freaking, worthless, ., I, hate, this, airline, ., http, :, //t.co/dN1if2cGwE]   \n",
       "22            [americanairamericanair, we, knew, it, was, not, going, to, leave, but, we, had, 6, hours, waiting, ..., that, was, the, hurry, ..]   \n",
       "23                                                                                         [united, alright, thank, you, ., much, appreciated, .]   \n",
       "24    [united, instead, of, making, seats, smaller, /, thinner, so, u, can, jam, more, people, on, a, flightu, should, concentrate, on, maint,...   \n",
       "25                               [USAirways, this, is, more, than, having, patience, ., this, is, not, acceptable, ., http, :, //t.co/N7pSuEJDC8]   \n",
       "26    [americanairamericanair, yes, we, did, make, it, home, ., but, by, no, means, am, I, happy, ., I, 've, always, chosen, AA, as, my, 1st, ...   \n",
       "27    [southwestairsouthwestair, problem, is, I, was, n't, issued, a, position, until, today, at, the, gate, ., and, no, option, to, upgrade, ...   \n",
       "28    [southwestairsouthwestair, been, holding, for, 1, hour, and, 10, minutes, ., to, rebook, cancelled, flightlation.you.flightlation.you, g...   \n",
       "29    [USAirways, flight, 614, keeps, telling, a, few, more, mins, to, take, off, its, been, an, hour, ., first, time, with, you, not, the, be...   \n",
       "...                                                                                                                                           ...   \n",
       "4151  [southwestairsouthwestair, is, that, the, same, reliable, system, could, n't, find, my, info, and, then, said, it, refund, my, credit, c...   \n",
       "4152  [americanairamericanair, -, you, broke, my, sick, wife, 's, luggage, handle, going, from, JFK, to, LAX, ..., she, had, to, drag, her, ba...   \n",
       "4153  [southwestairsouthwestair, we, had, early, bird, and, it, was, great, ., your, employees, were, awesome, ., it, was, 3, passengers, who,...   \n",
       "4154  [americanairamericanair, DFW, GATE, 16, to, BMI, agent, seriously, is, beyond, incompetent, ., never, flying, AA, again, if, can, be, av...   \n",
       "4155  [united, not, yet, ., I, complained, about, the, guy, who, checked, my, luggage, in, as, he, was, throwing, the, bags, around, ., unfort...   \n",
       "4156                         [americanairamericanair, USAirways, wonderful, FC, FA, on, flight, 2062, pre, dawn, !, nice, start, to, the, day, !]   \n",
       "4157  [USAirways, this, is, no, way, to, treat, women, ., I, want, someone, to, contact, me, and, explain, how, they, will, make, this, accept...   \n",
       "4158                                                                                  [southwestairsouthwestair, your, employees, were, great, !]   \n",
       "4159                                              [united, JT, thanks, for, your, help, I, ’, ll, complete, the, form, once, we, are, back, home]   \n",
       "4160                                                    [southwestairsouthwestair, THANK, YOU, SO, MUCH, YOURE, AMAZING, IM, GOING, TO, CRY, OMG]   \n",
       "4161  [southwestairsouthwestair, your, terry, is, our, hero, !, got, my, husband, back, thru, security, to, retrieve, cellphone, left, on, pla...   \n",
       "4162  [virginamericavirginamerica, your, mobile, site, is, broken, shows, ``, {, {, header.elevateUser, ., numOfPointsAvailable, |, |, ', 0, '...   \n",
       "4163  [americanairamericanair, so, we, 've, now, been, driving, across, DFW, for, over, 90mins, ., that's, 's, half, fucking, way, to, texarka...   \n",
       "4164  [virginamericavirginamerica, for, my, grandma, ella's, 's, 80th, she, would, <, 3, a, bday, greeting, from, your, flight, crew, !, she, ...   \n",
       "4165  [americanairamericanair, a, friend, is, having, flight, cancelled, flightlations, out, of, LAX, to, CMH, on, feb, 23, ., anyway, to, hel...   \n",
       "4166                                     [united, €, 202.88, is, the, difference, between, the, booked, flights, do, you, want, screen, shots, ?]   \n",
       "4167  [jetbluejetblue, trying, to, charge, us, $, 550, dollars, cash, for, tickets, we, paid, for, months, in, advance, #, isthisreal, #, neve...   \n",
       "4168                                     [united, 732, from, denver, ., we, just, boarded, !, fingers, crossed, we, get, into, the, air, !, !, !]   \n",
       "4169  [jetbluejetblue, airbus, wow, what, an, amazing, video, https, :, //t.co/dbcvEPn5QC, great, world, guys, #, Bluemanity, #, CoreValues, #...   \n",
       "4170                                                              [united, oh, the, wi-fi-wi-fi, router, is, on, top, of, the, fuselage, !, ;, )]   \n",
       "4171  [united, the, flight, turned, around, for, mechanical, reasons, on, 1/30, /, 15, ., never, to, fly, united, again, as, they, do, n't, ch...   \n",
       "4172                                  [southwestairsouthwestair, please, help, ., we, really, want, to, fly, with, you, ., #, guessweflyingdelta]   \n",
       "4173  [americanairamericanair, thanks, for, making, this, the, worst, flying, experience, ever, ., 4, different, planes, of, mechanical, issue...   \n",
       "4174  [americanairamericanair, my, sister, just, received, a, call, that, her, trip, wednesday, (, flts, 2348/3499, ), was, cancelled, flightl...   \n",
       "4175  [americanairamericanair, boeingairplanesboeingairplanes, I, really, would, love, to, experience, first, class, on, that, planelooks, stu...   \n",
       "4176  [southwestairsouthwestair, finally, boarded, ., looks, like, I, 'll, make, it, to, my, final, destination, but, my, baggage, wo, n't, #,...   \n",
       "4177                                                       [americanairamericanair, dfwairport, guys, let, it, go, ., http, :, //t.co/vOxcghciJi]   \n",
       "4178                                                                                  [jetbluejetblue, why, 730, and, not, 645, as, scheduled, ?]   \n",
       "4179  [virginamericavirginamerica, I, can, not, even, open, my, laptop, in, seat, 4C, and, I, paid, a, premium, for, this, ?, !, !, let, me, o...   \n",
       "4180  [USAirways, I, 'm, glad, this, airline, is, going, to, be, swallowed, by, american, !, !, !, american, always, picks, up, the, phone, an...   \n",
       "\n",
       "      Sentiment  \n",
       "0             0  \n",
       "1             0  \n",
       "2             0  \n",
       "3             1  \n",
       "4             0  \n",
       "5             0  \n",
       "6             0  \n",
       "7             0  \n",
       "8             0  \n",
       "9             0  \n",
       "10            0  \n",
       "11            0  \n",
       "12            1  \n",
       "13            0  \n",
       "14            0  \n",
       "15            0  \n",
       "16            0  \n",
       "17            0  \n",
       "18            1  \n",
       "19            0  \n",
       "20            1  \n",
       "21            0  \n",
       "22            0  \n",
       "23            1  \n",
       "24            0  \n",
       "25            0  \n",
       "26            0  \n",
       "27            0  \n",
       "28            0  \n",
       "29            0  \n",
       "...         ...  \n",
       "4151          0  \n",
       "4152          0  \n",
       "4153          1  \n",
       "4154          0  \n",
       "4155          0  \n",
       "4156          1  \n",
       "4157          0  \n",
       "4158          1  \n",
       "4159          1  \n",
       "4160          1  \n",
       "4161          1  \n",
       "4162          0  \n",
       "4163          0  \n",
       "4164          1  \n",
       "4165          0  \n",
       "4166          0  \n",
       "4167          0  \n",
       "4168          1  \n",
       "4169          1  \n",
       "4170          1  \n",
       "4171          0  \n",
       "4172          1  \n",
       "4173          0  \n",
       "4174          0  \n",
       "4175          1  \n",
       "4176          0  \n",
       "4177          1  \n",
       "4178          0  \n",
       "4179          0  \n",
       "4180          0  \n",
       "\n",
       "[4181 rows x 2 columns]"
      ]
     },
     "execution_count": 24,
     "metadata": {},
     "output_type": "execute_result"
    }
   ],
   "source": [
    "df.sample(frac=1).reset_index(drop=True)"
   ]
  },
  {
   "cell_type": "code",
   "execution_count": 102,
   "metadata": {},
   "outputs": [
    {
     "name": "stdout",
     "output_type": "stream",
     "text": [
      "(3000, 3)\n"
     ]
    }
   ],
   "source": []
  },
  {
   "cell_type": "code",
   "execution_count": 88,
   "metadata": {},
   "outputs": [],
   "source": [
    "#stemming\n",
    "stemtweets=[]\n",
    "from nltk.stem.snowball import SnowballStemmer\n",
    "stemmer = SnowballStemmer(\"english\", ignore_stopwords=False)\n",
    "#ps= PorterStemmer()\n",
    "for x in df.text:\n",
    "    stemtweet=''\n",
    "    for word in x:\n",
    "        stemtweet=stemtweet+stemmer.stem(word)+' '\n",
    "    stemtweets.append(word_tokenize(stemtweet))\n",
    "df['stemmed']=stemtweets"
   ]
  },
  {
   "cell_type": "markdown",
   "metadata": {},
   "source": [
    "## Extract Features"
   ]
  },
  {
   "cell_type": "code",
   "execution_count": 89,
   "metadata": {},
   "outputs": [],
   "source": [
    "# import dependencies\n",
    "from sklearn.feature_extraction.text import CountVectorizer\n",
    "from sklearn.feature_extraction.text import TfidfVectorizer"
   ]
  },
  {
   "cell_type": "markdown",
   "metadata": {},
   "source": [
    "##### Frequency Count\n"
   ]
  },
  {
   "cell_type": "code",
   "execution_count": 90,
   "metadata": {},
   "outputs": [
    {
     "data": {
      "text/plain": [
       "7984"
      ]
     },
     "execution_count": 90,
     "metadata": {},
     "output_type": "execute_result"
    }
   ],
   "source": [
    "#extract text from df\n",
    "text = df['text']\n",
    "\n",
    "\n",
    "# initiate count vectorizer\n",
    "def dummy_fun(doc):\n",
    "    return doc\n",
    "\n",
    "vectorizer = CountVectorizer(\n",
    "    analyzer='word',\n",
    "    tokenizer=dummy_fun,\n",
    "    preprocessor=dummy_fun,\n",
    "    token_pattern=None)  \n",
    "vectorizer.fit(text)\n",
    "freqVector = vectorizer.vocabulary_\n",
    "len(freqVector)"
   ]
  },
  {
   "cell_type": "markdown",
   "metadata": {},
   "source": [
    "##### Binary Representation"
   ]
  },
  {
   "cell_type": "code",
   "execution_count": 91,
   "metadata": {},
   "outputs": [
    {
     "data": {
      "text/plain": [
       "(4181, 7984)"
      ]
     },
     "execution_count": 91,
     "metadata": {},
     "output_type": "execute_result"
    }
   ],
   "source": [
    "binaryVector = pd.Series(text).apply(pd.value_counts).fillna(0).astype(int)\n",
    "binaryVector.shape"
   ]
  },
  {
   "cell_type": "markdown",
   "metadata": {},
   "source": [
    "## Training"
   ]
  },
  {
   "cell_type": "code",
   "execution_count": 104,
   "metadata": {},
   "outputs": [
    {
     "name": "stdout",
     "output_type": "stream",
     "text": [
      "(3000, 3)\n",
      "(1181, 3)\n"
     ]
    }
   ],
   "source": [
    "# calculate the prior for each class\n",
    "\n",
    "# calculate the no. of negative sentiments\n",
    "neg =  df['Sentiment']==0\n",
    "neg_count = df[neg]\n",
    "print(neg_count.shape)\n",
    "\n",
    "# calculate the no. of positive sentiments\n",
    "pos = df['Sentiment']==1\n",
    "pos_count = df[pos]\n",
    "print(pos_count.shape)\n"
   ]
  },
  {
   "cell_type": "code",
   "execution_count": null,
   "metadata": {},
   "outputs": [],
   "source": []
  }
 ],
 "metadata": {
  "kernelspec": {
   "display_name": "Python 3",
   "language": "python",
   "name": "python3"
  },
  "language_info": {
   "codemirror_mode": {
    "name": "ipython",
    "version": 3
   },
   "file_extension": ".py",
   "mimetype": "text/x-python",
   "name": "python",
   "nbconvert_exporter": "python",
   "pygments_lexer": "ipython3",
   "version": "3.7.0"
  }
 },
 "nbformat": 4,
 "nbformat_minor": 2
}
