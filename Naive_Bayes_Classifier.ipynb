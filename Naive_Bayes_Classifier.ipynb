{
 "cells": [
  {
   "cell_type": "markdown",
   "metadata": {},
   "source": [
    "## Bring in the txt files into Pandas dataframe"
   ]
  },
  {
   "cell_type": "code",
   "execution_count": 298,
   "metadata": {},
   "outputs": [],
   "source": [
    "# import dependencies\n",
    "import pandas as pd\n",
    "from collections import defaultdict\n",
    "from pathlib import Path\n",
    "import nltk as nl\n",
    "from nltk.tokenize import word_tokenize\n",
    "import re\n",
    "from nltk.tokenize.casual import TweetTokenizer"
   ]
  },
  {
   "cell_type": "code",
   "execution_count": 299,
   "metadata": {},
   "outputs": [
    {
     "name": "stderr",
     "output_type": "stream",
     "text": [
      "[nltk_data] Downloading package punkt to /Users/gkbytes/nltk_data...\n",
      "[nltk_data]   Package punkt is already up-to-date!\n"
     ]
    },
    {
     "data": {
      "text/plain": [
       "True"
      ]
     },
     "execution_count": 299,
     "metadata": {},
     "output_type": "execute_result"
    }
   ],
   "source": [
    "nl.download('punkt')"
   ]
  },
  {
   "cell_type": "code",
   "execution_count": 300,
   "metadata": {},
   "outputs": [],
   "source": [
    "#set directory path\n",
    "my_dir_path = \"tweet/train/positive\""
   ]
  },
  {
   "cell_type": "code",
   "execution_count": 301,
   "metadata": {},
   "outputs": [],
   "source": [
    "# create list to store text\n",
    "results = defaultdict(list)"
   ]
  },
  {
   "cell_type": "code",
   "execution_count": 302,
   "metadata": {},
   "outputs": [],
   "source": [
    "# loop through files and append text to list\n",
    "for file in Path(my_dir_path).iterdir():\n",
    "    with open(file, \"r\", encoding=\"utf8\") as file_open:\n",
    "        results[\"text\"].append(file_open.read())"
   ]
  },
  {
   "cell_type": "code",
   "execution_count": 303,
   "metadata": {},
   "outputs": [],
   "source": [
    "# read the list in as a dataframe\n",
    "df_pos = pd.DataFrame(results)"
   ]
  },
  {
   "cell_type": "code",
   "execution_count": 304,
   "metadata": {},
   "outputs": [
    {
     "data": {
      "text/html": [
       "<div>\n",
       "<style scoped>\n",
       "    .dataframe tbody tr th:only-of-type {\n",
       "        vertical-align: middle;\n",
       "    }\n",
       "\n",
       "    .dataframe tbody tr th {\n",
       "        vertical-align: top;\n",
       "    }\n",
       "\n",
       "    .dataframe thead th {\n",
       "        text-align: right;\n",
       "    }\n",
       "</style>\n",
       "<table border=\"1\" class=\"dataframe\">\n",
       "  <thead>\n",
       "    <tr style=\"text-align: right;\">\n",
       "      <th></th>\n",
       "      <th>text</th>\n",
       "    </tr>\n",
       "  </thead>\n",
       "  <tbody>\n",
       "    <tr>\n",
       "      <th>0</th>\n",
       "      <td>@united thanks for moving my dad on to my my mom's flight. You helped make his birthday start with #FriendlyFriday Awesomeness! 4 paws u...</td>\n",
       "    </tr>\n",
       "    <tr>\n",
       "      <th>1</th>\n",
       "      <td>@united Terrific. Many thanks. Looking forward to being back on UA tomorrow. Had a great flight up to Vancouver.\\n</td>\n",
       "    </tr>\n",
       "    <tr>\n",
       "      <th>2</th>\n",
       "      <td>@AmericanAir thanks! Flight 2160 today. Great crew!\\n</td>\n",
       "    </tr>\n",
       "    <tr>\n",
       "      <th>3</th>\n",
       "      <td>@JetBlue Thank you. Fingers crossed.\\n</td>\n",
       "    </tr>\n",
       "    <tr>\n",
       "      <th>4</th>\n",
       "      <td>“@JetBlue: Our fleet's on fleek. http://t.co/3kVkd8yRxa” + lol wow\\n</td>\n",
       "    </tr>\n",
       "  </tbody>\n",
       "</table>\n",
       "</div>"
      ],
      "text/plain": [
       "                                                                                                                                          text\n",
       "0  @united thanks for moving my dad on to my my mom's flight. You helped make his birthday start with #FriendlyFriday Awesomeness! 4 paws u...\n",
       "1                           @united Terrific. Many thanks. Looking forward to being back on UA tomorrow. Had a great flight up to Vancouver.\\n\n",
       "2                                                                                        @AmericanAir thanks! Flight 2160 today. Great crew!\\n\n",
       "3                                                                                                       @JetBlue Thank you. Fingers crossed.\\n\n",
       "4                                                                         “@JetBlue: Our fleet's on fleek. http://t.co/3kVkd8yRxa” + lol wow\\n"
      ]
     },
     "execution_count": 304,
     "metadata": {},
     "output_type": "execute_result"
    }
   ],
   "source": [
    "# take a look at dataframe\n",
    "df_pos.head()"
   ]
  },
  {
   "cell_type": "code",
   "execution_count": 305,
   "metadata": {},
   "outputs": [
    {
     "data": {
      "text/html": [
       "<div>\n",
       "<style scoped>\n",
       "    .dataframe tbody tr th:only-of-type {\n",
       "        vertical-align: middle;\n",
       "    }\n",
       "\n",
       "    .dataframe tbody tr th {\n",
       "        vertical-align: top;\n",
       "    }\n",
       "\n",
       "    .dataframe thead th {\n",
       "        text-align: right;\n",
       "    }\n",
       "</style>\n",
       "<table border=\"1\" class=\"dataframe\">\n",
       "  <thead>\n",
       "    <tr style=\"text-align: right;\">\n",
       "      <th></th>\n",
       "      <th>text</th>\n",
       "    </tr>\n",
       "  </thead>\n",
       "  <tbody>\n",
       "    <tr>\n",
       "      <th>0</th>\n",
       "      <td>@VirginAmerica Is it me or is your website down?  BTW your new website isn't a great user experience.  Time for another redesign.\\n</td>\n",
       "    </tr>\n",
       "    <tr>\n",
       "      <th>1</th>\n",
       "      <td>@SouthwestAir wifi on my plane but I gotta pay for it? Help your broke homegirl out✈️📱\\n</td>\n",
       "    </tr>\n",
       "    <tr>\n",
       "      <th>2</th>\n",
       "      <td>@SouthwestAir my flight is Cancelled Flightled due to weather. What next ?\\n</td>\n",
       "    </tr>\n",
       "    <tr>\n",
       "      <th>3</th>\n",
       "      <td>@USAirways how about an update? 2hrs delayed this obviously isnt up 2 date havent boarded http://t.co/L7lWjaZiOA\\n</td>\n",
       "    </tr>\n",
       "    <tr>\n",
       "      <th>4</th>\n",
       "      <td>@AmericanAir\\n Your response could have made all the difference. It could have made the situation better. NO TRUST...GET LOST like my ba...</td>\n",
       "    </tr>\n",
       "  </tbody>\n",
       "</table>\n",
       "</div>"
      ],
      "text/plain": [
       "                                                                                                                                          text\n",
       "0          @VirginAmerica Is it me or is your website down?  BTW your new website isn't a great user experience.  Time for another redesign.\\n\n",
       "1                                                     @SouthwestAir wifi on my plane but I gotta pay for it? Help your broke homegirl out✈️📱\\n\n",
       "2                                                                 @SouthwestAir my flight is Cancelled Flightled due to weather. What next ?\\n\n",
       "3                           @USAirways how about an update? 2hrs delayed this obviously isnt up 2 date havent boarded http://t.co/L7lWjaZiOA\\n\n",
       "4  @AmericanAir\\n Your response could have made all the difference. It could have made the situation better. NO TRUST...GET LOST like my ba..."
      ]
     },
     "execution_count": 305,
     "metadata": {},
     "output_type": "execute_result"
    }
   ],
   "source": [
    "#set directory path\n",
    "my_dir_path_neg = \"tweet/train/negative\"\n",
    "\n",
    "# create list to store text\n",
    "results_neg = defaultdict(list)\n",
    "\n",
    "## loop through files and append text to list\n",
    "for file in Path(my_dir_path_neg).iterdir():\n",
    "    with open(file, \"r\", encoding=\"utf8\") as file_open:\n",
    "        results_neg[\"text\"].append(file_open.read())\n",
    "        \n",
    "# read the list in as a dataframe\n",
    "df_neg = pd.DataFrame(results_neg)\n",
    "df_neg.head()"
   ]
  },
  {
   "cell_type": "code",
   "execution_count": 306,
   "metadata": {},
   "outputs": [],
   "source": [
    "#add sentiment to both datasets and then combine them for test data 1 for positive and 0 for negative\n",
    "df_pos['Sentiment']=1\n",
    "df_neg['Sentiment']=0\n",
    "frames = [df_pos, df_neg]\n",
    "df = pd.concat(frames)"
   ]
  },
  {
   "cell_type": "code",
   "execution_count": 310,
   "metadata": {},
   "outputs": [
    {
     "data": {
      "text/plain": [
       "(4181, 2)"
      ]
     },
     "execution_count": 310,
     "metadata": {},
     "output_type": "execute_result"
    }
   ],
   "source": [
    "df.shape"
   ]
  },
  {
   "cell_type": "markdown",
   "metadata": {},
   "source": [
    "## Create Vocabulary - No Stemming"
   ]
  },
  {
   "cell_type": "code",
   "execution_count": 309,
   "metadata": {},
   "outputs": [
    {
     "data": {
      "text/html": [
       "<div>\n",
       "<style scoped>\n",
       "    .dataframe tbody tr th:only-of-type {\n",
       "        vertical-align: middle;\n",
       "    }\n",
       "\n",
       "    .dataframe tbody tr th {\n",
       "        vertical-align: top;\n",
       "    }\n",
       "\n",
       "    .dataframe thead th {\n",
       "        text-align: right;\n",
       "    }\n",
       "</style>\n",
       "<table border=\"1\" class=\"dataframe\">\n",
       "  <thead>\n",
       "    <tr style=\"text-align: right;\">\n",
       "      <th></th>\n",
       "      <th>text</th>\n",
       "      <th>Sentiment</th>\n",
       "    </tr>\n",
       "  </thead>\n",
       "  <tbody>\n",
       "    <tr>\n",
       "      <th>0</th>\n",
       "      <td>@USAirways call dropped &amp;amp; no call back...another 45min-hour for another rep. The worst CS ever online by phone &amp;amp; in person.\\n</td>\n",
       "      <td>0</td>\n",
       "    </tr>\n",
       "    <tr>\n",
       "      <th>1</th>\n",
       "      <td>@VirginAmerica got it squared away. Someone picked up as soon as I tweeted. Should have tweeted sooner. 😉\\n</td>\n",
       "      <td>1</td>\n",
       "    </tr>\n",
       "    <tr>\n",
       "      <th>2</th>\n",
       "      <td>@JetBlue but thank you! Love an anxious flyer.\\n</td>\n",
       "      <td>1</td>\n",
       "    </tr>\n",
       "    <tr>\n",
       "      <th>3</th>\n",
       "      <td>:( RT @JetBlue: Our fleet's on fleek. http://t.co/ncguZDgDaQ\\n</td>\n",
       "      <td>0</td>\n",
       "    </tr>\n",
       "    <tr>\n",
       "      <th>4</th>\n",
       "      <td>@USAirways @jhughes1025 grrrrrrrr. Couldn't book a flight via calling either :(\\n</td>\n",
       "      <td>0</td>\n",
       "    </tr>\n",
       "    <tr>\n",
       "      <th>5</th>\n",
       "      <td>@JetBlue when your flights delayed :)))&amp;gt;&amp;gt;&amp;gt;\\n</td>\n",
       "      <td>0</td>\n",
       "    </tr>\n",
       "    <tr>\n",
       "      <th>6</th>\n",
       "      <td>@AmericanAir has the worst flight change policy. No mercy no sympathy such a bummer when you can't go to funerals or see friends bc of i...</td>\n",
       "      <td>0</td>\n",
       "    </tr>\n",
       "    <tr>\n",
       "      <th>7</th>\n",
       "      <td>@SouthwestAir because according to the flight attendant my husband doesn't talk english when the fact is that he understand and talks it\\n</td>\n",
       "      <td>0</td>\n",
       "    </tr>\n",
       "    <tr>\n",
       "      <th>8</th>\n",
       "      <td>@united had been suffering immensely ever since this merge .. Hopefully I'll never have to fly @united ever again ..\\n</td>\n",
       "      <td>0</td>\n",
       "    </tr>\n",
       "    <tr>\n",
       "      <th>9</th>\n",
       "      <td>@USAirways why aren't you updating flight status/delays?\\n</td>\n",
       "      <td>0</td>\n",
       "    </tr>\n",
       "    <tr>\n",
       "      <th>10</th>\n",
       "      <td>@USAirways still no rep can talk 3 days Late Flightr. U r asking me to checkin to my flight tmrw and my refund is being requested.  Deal...</td>\n",
       "      <td>0</td>\n",
       "    </tr>\n",
       "    <tr>\n",
       "      <th>11</th>\n",
       "      <td>@united So far so good. Just stepped down in Denver. Next Stop Portland!\\n</td>\n",
       "      <td>1</td>\n",
       "    </tr>\n",
       "    <tr>\n",
       "      <th>12</th>\n",
       "      <td>@usairways told no gates open at #ORD needed to wait 20mins. Still waiting after about 4 mins.\\n</td>\n",
       "      <td>0</td>\n",
       "    </tr>\n",
       "    <tr>\n",
       "      <th>13</th>\n",
       "      <td>@usairways is there not a faster way to get me to Columbia Sc than making me stay in CLT over night after my delayed flight?\\n</td>\n",
       "      <td>0</td>\n",
       "    </tr>\n",
       "    <tr>\n",
       "      <th>14</th>\n",
       "      <td>@SouthwestAir here's a first..both pilot and first officer in galley during flight...\\n</td>\n",
       "      <td>0</td>\n",
       "    </tr>\n",
       "    <tr>\n",
       "      <th>15</th>\n",
       "      <td>@SouthwestAir can't speak with customer service for 2hours still on hold! Do you guys work?#nogood\\n</td>\n",
       "      <td>0</td>\n",
       "    </tr>\n",
       "    <tr>\n",
       "      <th>16</th>\n",
       "      <td>@USAirways Still on hold. 1 hour and 45 minutes and counting. Platinum? Who cares? Problems checking in? Who cares?\\n</td>\n",
       "      <td>0</td>\n",
       "    </tr>\n",
       "    <tr>\n",
       "      <th>17</th>\n",
       "      <td>@united Very good flight thank you!\\n</td>\n",
       "      <td>1</td>\n",
       "    </tr>\n",
       "    <tr>\n",
       "      <th>18</th>\n",
       "      <td>@united Lovely new plane from LGA to ORD but no power outlets?\\n</td>\n",
       "      <td>0</td>\n",
       "    </tr>\n",
       "    <tr>\n",
       "      <th>19</th>\n",
       "      <td>@AmericanAir What's the status at DFW? Ticket agent at gate A9 was very rude and unhelpful.\\n</td>\n",
       "      <td>0</td>\n",
       "    </tr>\n",
       "  </tbody>\n",
       "</table>\n",
       "</div>"
      ],
      "text/plain": [
       "                                                                                                                                           text  \\\n",
       "0         @USAirways call dropped &amp; no call back...another 45min-hour for another rep. The worst CS ever online by phone &amp; in person.\\n   \n",
       "1                                   @VirginAmerica got it squared away. Someone picked up as soon as I tweeted. Should have tweeted sooner. 😉\\n   \n",
       "2                                                                                              @JetBlue but thank you! Love an anxious flyer.\\n   \n",
       "3                                                                                :( RT @JetBlue: Our fleet's on fleek. http://t.co/ncguZDgDaQ\\n   \n",
       "4                                                             @USAirways @jhughes1025 grrrrrrrr. Couldn't book a flight via calling either :(\\n   \n",
       "5                                                                                         @JetBlue when your flights delayed :)))&gt;&gt;&gt;\\n   \n",
       "6   @AmericanAir has the worst flight change policy. No mercy no sympathy such a bummer when you can't go to funerals or see friends bc of i...   \n",
       "7    @SouthwestAir because according to the flight attendant my husband doesn't talk english when the fact is that he understand and talks it\\n   \n",
       "8                        @united had been suffering immensely ever since this merge .. Hopefully I'll never have to fly @united ever again ..\\n   \n",
       "9                                                                                    @USAirways why aren't you updating flight status/delays?\\n   \n",
       "10  @USAirways still no rep can talk 3 days Late Flightr. U r asking me to checkin to my flight tmrw and my refund is being requested.  Deal...   \n",
       "11                                                                   @united So far so good. Just stepped down in Denver. Next Stop Portland!\\n   \n",
       "12                                             @usairways told no gates open at #ORD needed to wait 20mins. Still waiting after about 4 mins.\\n   \n",
       "13               @usairways is there not a faster way to get me to Columbia Sc than making me stay in CLT over night after my delayed flight?\\n   \n",
       "14                                                      @SouthwestAir here's a first..both pilot and first officer in galley during flight...\\n   \n",
       "15                                         @SouthwestAir can't speak with customer service for 2hours still on hold! Do you guys work?#nogood\\n   \n",
       "16                        @USAirways Still on hold. 1 hour and 45 minutes and counting. Platinum? Who cares? Problems checking in? Who cares?\\n   \n",
       "17                                                                                                        @united Very good flight thank you!\\n   \n",
       "18                                                                             @united Lovely new plane from LGA to ORD but no power outlets?\\n   \n",
       "19                                                @AmericanAir What's the status at DFW? Ticket agent at gate A9 was very rude and unhelpful.\\n   \n",
       "\n",
       "    Sentiment  \n",
       "0           0  \n",
       "1           1  \n",
       "2           1  \n",
       "3           0  \n",
       "4           0  \n",
       "5           0  \n",
       "6           0  \n",
       "7           0  \n",
       "8           0  \n",
       "9           0  \n",
       "10          0  \n",
       "11          1  \n",
       "12          0  \n",
       "13          0  \n",
       "14          0  \n",
       "15          0  \n",
       "16          0  \n",
       "17          1  \n",
       "18          0  \n",
       "19          0  "
      ]
     },
     "execution_count": 309,
     "metadata": {},
     "output_type": "execute_result"
    }
   ],
   "source": [
    "# increase column width to see more of the tweets\n",
    "pd.set_option('max_colwidth', 140)\n",
    "\n",
    "# reshuffle the tweets to see both pos and neg in random order\n",
    "df = df.sample(frac=1).reset_index(drop=True)\n",
    "\n",
    "# explore top 20 rows\n",
    "df.head(20)"
   ]
  },
  {
   "cell_type": "code",
   "execution_count": 311,
   "metadata": {},
   "outputs": [],
   "source": [
    "# Remove any markup tags (HTML)\n",
    "def cleanhtml(raw_html):\n",
    "    pattern = re.compile('<.*?>')\n",
    "    cleantext = re.sub(pattern, '', raw_html)\n",
    "    return cleantext"
   ]
  },
  {
   "cell_type": "code",
   "execution_count": 312,
   "metadata": {},
   "outputs": [],
   "source": [
    "def removeat(text):\n",
    "    atlist=[]\n",
    "    for word in text:\n",
    "        pattern = re.compile('^@')\n",
    "        if re.match(pattern,word):\n",
    "            #cleantext1 = re.sub(pattern, word[1:], word)\n",
    "            atlist.append(word[1:])\n",
    "        else:\n",
    "            atlist.append(word)\n",
    "    return atlist"
   ]
  },
  {
   "cell_type": "code",
   "execution_count": 313,
   "metadata": {},
   "outputs": [],
   "source": [
    "def tolower(text):\n",
    "    lowerlist=[]\n",
    "    for word in text:\n",
    "        pattern = re.compile('[A-Z][a-z]+')\n",
    "        if re.match(pattern,word):\n",
    "            cleantext1 = re.sub(pattern, word.lower(), word)\n",
    "            lowerlist.append(cleantext1)\n",
    "        else:\n",
    "            lowerlist.append(word)\n",
    "    return lowerlist"
   ]
  },
  {
   "cell_type": "code",
   "execution_count": 314,
   "metadata": {},
   "outputs": [],
   "source": [
    "cleantweet= []\n",
    "for doc in df.text:\n",
    "    cleantweet.append(cleanhtml(doc))\n",
    "\n",
    "\n",
    "tokentweet=[]\n",
    "df.text= cleantweet\n",
    "for doc in df.text:\n",
    "    tokentweet.append(TweetTokenizer().tokenize(doc))\n",
    "    \n",
    "df.text= tokentweet"
   ]
  },
  {
   "cell_type": "code",
   "execution_count": 315,
   "metadata": {},
   "outputs": [],
   "source": [
    "removeattweet=[]\n",
    "for doc in df.text:\n",
    "    removeattweet.append(removeat(doc))\n",
    "df.text =removeattweet"
   ]
  },
  {
   "cell_type": "code",
   "execution_count": 316,
   "metadata": {},
   "outputs": [
    {
     "data": {
      "text/plain": [
       "['VirginAmerica',\n",
       " 'got',\n",
       " 'it',\n",
       " 'squared',\n",
       " 'away',\n",
       " '.',\n",
       " 'Someone',\n",
       " 'picked',\n",
       " 'up',\n",
       " 'as',\n",
       " 'soon',\n",
       " 'as',\n",
       " 'I',\n",
       " 'tweeted',\n",
       " '.',\n",
       " 'Should',\n",
       " 'have',\n",
       " 'tweeted',\n",
       " 'sooner',\n",
       " '.',\n",
       " '😉']"
      ]
     },
     "execution_count": 316,
     "metadata": {},
     "output_type": "execute_result"
    }
   ],
   "source": [
    "removeattweet[1]"
   ]
  },
  {
   "cell_type": "code",
   "execution_count": 317,
   "metadata": {},
   "outputs": [],
   "source": [
    "lowertweet=[]\n",
    "for doc in df.text:\n",
    "    lowertweet.append(tolower(doc))\n",
    "df.text = lowertweet"
   ]
  },
  {
   "cell_type": "code",
   "execution_count": 318,
   "metadata": {},
   "outputs": [
    {
     "data": {
      "text/plain": [
       "['virginamericavirginamerica',\n",
       " 'got',\n",
       " 'it',\n",
       " 'squared',\n",
       " 'away',\n",
       " '.',\n",
       " 'someone',\n",
       " 'picked',\n",
       " 'up',\n",
       " 'as',\n",
       " 'soon',\n",
       " 'as',\n",
       " 'I',\n",
       " 'tweeted',\n",
       " '.',\n",
       " 'should',\n",
       " 'have',\n",
       " 'tweeted',\n",
       " 'sooner',\n",
       " '.',\n",
       " '😉']"
      ]
     },
     "execution_count": 318,
     "metadata": {},
     "output_type": "execute_result"
    }
   ],
   "source": [
    "lowertweet[1]"
   ]
  },
  {
   "cell_type": "code",
   "execution_count": 319,
   "metadata": {},
   "outputs": [],
   "source": [
    "tweets=[]\n",
    "for x in df.text:\n",
    "    tweet = ''\n",
    "    for word in x:\n",
    "        tweet += word+' '\n",
    "    tweets.append(word_tokenize(tweet))\n",
    "df.text= tweets"
   ]
  },
  {
   "cell_type": "code",
   "execution_count": 321,
   "metadata": {},
   "outputs": [
    {
     "data": {
      "text/html": [
       "<div>\n",
       "<style scoped>\n",
       "    .dataframe tbody tr th:only-of-type {\n",
       "        vertical-align: middle;\n",
       "    }\n",
       "\n",
       "    .dataframe tbody tr th {\n",
       "        vertical-align: top;\n",
       "    }\n",
       "\n",
       "    .dataframe thead th {\n",
       "        text-align: right;\n",
       "    }\n",
       "</style>\n",
       "<table border=\"1\" class=\"dataframe\">\n",
       "  <thead>\n",
       "    <tr style=\"text-align: right;\">\n",
       "      <th></th>\n",
       "      <th>text</th>\n",
       "      <th>Sentiment</th>\n",
       "    </tr>\n",
       "  </thead>\n",
       "  <tbody>\n",
       "    <tr>\n",
       "      <th>0</th>\n",
       "      <td>[united, agent, split, up, my, reservation, ?, now, ca, n't, cancelled, flight, and, refund, credit, for, 2wks, ?, why]</td>\n",
       "      <td>0</td>\n",
       "    </tr>\n",
       "    <tr>\n",
       "      <th>1</th>\n",
       "      <td>[jetbluejetblue, flight, attendant, wendi, on, flt, 127, on, 2/17, newark, to, orlando, ., 👍, 👍]</td>\n",
       "      <td>1</td>\n",
       "    </tr>\n",
       "    <tr>\n",
       "      <th>2</th>\n",
       "      <td>[americanairamericanair, oh, no, she, left, the, counter, and, went, downstairs, ., then, she, told, elise, an, agent, that, joined, her...</td>\n",
       "      <td>0</td>\n",
       "    </tr>\n",
       "    <tr>\n",
       "      <th>3</th>\n",
       "      <td>[americanairamericanair, cancelled, flights, my, flight, does, n't, send, an, email, text, or, call, ., then, puts, me, on, way, earlier...</td>\n",
       "      <td>0</td>\n",
       "    </tr>\n",
       "    <tr>\n",
       "      <th>4</th>\n",
       "      <td>[USAirways, #, DividendRewards, urgently, need, to, speak, with, a, CS, rep, ., my, 50K, miles, havent, shown, &amp;, I, 've, fulfilled, all...</td>\n",
       "      <td>0</td>\n",
       "    </tr>\n",
       "    <tr>\n",
       "      <th>...</th>\n",
       "      <td>...</td>\n",
       "      <td>...</td>\n",
       "    </tr>\n",
       "    <tr>\n",
       "      <th>4176</th>\n",
       "      <td>[southwestairsouthwestair, can, you, please, DM, me, who, I, can, speak, with, regarding, my, receipts, and, who, I, can, email, a, pres...</td>\n",
       "      <td>0</td>\n",
       "    </tr>\n",
       "    <tr>\n",
       "      <th>4177</th>\n",
       "      <td>[americanairamericanair, great, thanks, !]</td>\n",
       "      <td>1</td>\n",
       "    </tr>\n",
       "    <tr>\n",
       "      <th>4178</th>\n",
       "      <td>[USAirways, call, dropped, &amp;, no, call, back, ..., another, 45min, -, hour, for, another, rep, ., the, worst, CS, ever, online, by, phon...</td>\n",
       "      <td>0</td>\n",
       "    </tr>\n",
       "    <tr>\n",
       "      <th>4179</th>\n",
       "      <td>[united, thank, you, for, getting, our, daughter, home, when, americanair, cancelled, flightled, all, their, flights, to, nashville]</td>\n",
       "      <td>1</td>\n",
       "    </tr>\n",
       "    <tr>\n",
       "      <th>4180</th>\n",
       "      <td>[americanairamericanair, thanks, !, flight, 2160, today, ., great, crew, !]</td>\n",
       "      <td>1</td>\n",
       "    </tr>\n",
       "  </tbody>\n",
       "</table>\n",
       "<p>4181 rows × 2 columns</p>\n",
       "</div>"
      ],
      "text/plain": [
       "                                                                                                                                             text  \\\n",
       "0                         [united, agent, split, up, my, reservation, ?, now, ca, n't, cancelled, flight, and, refund, credit, for, 2wks, ?, why]   \n",
       "1                                                [jetbluejetblue, flight, attendant, wendi, on, flt, 127, on, 2/17, newark, to, orlando, ., 👍, 👍]   \n",
       "2     [americanairamericanair, oh, no, she, left, the, counter, and, went, downstairs, ., then, she, told, elise, an, agent, that, joined, her...   \n",
       "3     [americanairamericanair, cancelled, flights, my, flight, does, n't, send, an, email, text, or, call, ., then, puts, me, on, way, earlier...   \n",
       "4     [USAirways, #, DividendRewards, urgently, need, to, speak, with, a, CS, rep, ., my, 50K, miles, havent, shown, &, I, 've, fulfilled, all...   \n",
       "...                                                                                                                                           ...   \n",
       "4176  [southwestairsouthwestair, can, you, please, DM, me, who, I, can, speak, with, regarding, my, receipts, and, who, I, can, email, a, pres...   \n",
       "4177                                                                                                   [americanairamericanair, great, thanks, !]   \n",
       "4178  [USAirways, call, dropped, &, no, call, back, ..., another, 45min, -, hour, for, another, rep, ., the, worst, CS, ever, online, by, phon...   \n",
       "4179         [united, thank, you, for, getting, our, daughter, home, when, americanair, cancelled, flightled, all, their, flights, to, nashville]   \n",
       "4180                                                                  [americanairamericanair, thanks, !, flight, 2160, today, ., great, crew, !]   \n",
       "\n",
       "      Sentiment  \n",
       "0             0  \n",
       "1             1  \n",
       "2             0  \n",
       "3             0  \n",
       "4             0  \n",
       "...         ...  \n",
       "4176          0  \n",
       "4177          1  \n",
       "4178          0  \n",
       "4179          1  \n",
       "4180          1  \n",
       "\n",
       "[4181 rows x 2 columns]"
      ]
     },
     "execution_count": 321,
     "metadata": {},
     "output_type": "execute_result"
    }
   ],
   "source": [
    "df.sample(frac=1).reset_index(drop=True)"
   ]
  },
  {
   "cell_type": "code",
   "execution_count": null,
   "metadata": {},
   "outputs": [],
   "source": []
  },
  {
   "cell_type": "code",
   "execution_count": null,
   "metadata": {},
   "outputs": [],
   "source": []
  }
 ],
 "metadata": {
  "kernelspec": {
   "display_name": "Python 3",
   "language": "python",
   "name": "python3"
  },
  "language_info": {
   "codemirror_mode": {
    "name": "ipython",
    "version": 3
   },
   "file_extension": ".py",
   "mimetype": "text/x-python",
   "name": "python",
   "nbconvert_exporter": "python",
   "pygments_lexer": "ipython3",
   "version": "3.7.5"
  }
 },
 "nbformat": 4,
 "nbformat_minor": 2
}
